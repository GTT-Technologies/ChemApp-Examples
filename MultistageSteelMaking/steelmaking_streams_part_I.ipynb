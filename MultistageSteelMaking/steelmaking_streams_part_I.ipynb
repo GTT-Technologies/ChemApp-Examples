{
 "cells": [
  {
   "cell_type": "markdown",
   "id": "d8c84b0e",
   "metadata": {},
   "source": [
    "Setting Up the Python Script"
   ]
  },
  {
   "cell_type": "markdown",
   "id": "8f89f478",
   "metadata": {},
   "source": [
    "This script requires ChemApp for Python newer than 834.0.0 for all features to\n",
    "work, as it is meant to showcase the new abilities. If you want to read up on\n",
    "this example, there is a blog post on the GTT website that explains all features\n",
    "used: <link -->"
   ]
  },
  {
   "cell_type": "code",
   "execution_count": null,
   "id": "be27e7a6",
   "metadata": {},
   "outputs": [],
   "source": [
    "from chemapp.friendly import StreamCalculation, Units, ThermochemicalSystem\n",
    "from chemapp.core import AmountUnit, TemperatureUnit, PressureUnit, EnergyUnit, PhaseMatterState\n",
    "\n",
    "# Set global units for consistency\n",
    "Units.set(A=AmountUnit.tonne, T=TemperatureUnit.C, P=PressureUnit.bar, E=EnergyUnit.J)\n",
    "\n",
    "# Load specialized thermochemical database for ferrous metallurgy\n",
    "ThermochemicalSystem.load(\"steelmaking.cst\")"
   ]
  },
  {
   "cell_type": "markdown",
   "id": "99e160bd",
   "metadata": {},
   "source": [
    "Input Stream Definition"
   ]
  },
  {
   "cell_type": "code",
   "execution_count": null,
   "id": "c7276289",
   "metadata": {},
   "outputs": [],
   "source": [
    "# Define hot metal input (values in tonnes)\n",
    "hot_metal = StreamCalculation.create_st_cfs(\n",
    "    \"HotMetal\",\n",
    "    [\"Fe\",      \"C\",        \"Si\",       \"S\",        \"P\",        \"Mn\"        ],\n",
    "    [94.6225,   4.35,       0.505,      0.0225,     0.1,        0.4         ],\n",
    "    T=1300.0\n",
    ")\n",
    "\n",
    "# Define oxygen for decarburization and oxidation reactions\n",
    "oxygen = StreamCalculation.create_st_cfs(\"Oxygen\", [\"O2\"], [5.0], T=25.0)\n",
    "\n",
    "# Define steel scrap for temperature moderation and yield enhancement\n",
    "scrap = StreamCalculation.create_st_cfs(\"Scrap\", [\"Fe\"], [18.0], T=25.0)\n",
    "\n",
    "# Define lime addition for slag formation and impurity sequestration\n",
    "lime = StreamCalculation.create_st_cfs(\"Lime\", [\"CaO\"], [2.5], T=25.0)"
   ]
  },
  {
   "cell_type": "markdown",
   "id": "27752bc4",
   "metadata": {},
   "source": [
    "Primary Steelmaking: LD Converter Simulation"
   ]
  },
  {
   "cell_type": "code",
   "execution_count": null,
   "id": "929aabcd",
   "metadata": {},
   "outputs": [],
   "source": [
    "# Execute adiabatic reaction simulation for converter process\n",
    "converter_result = StreamCalculation.reaction_adiabatic(\n",
    "    [hot_metal, oxygen, scrap, lime]\n",
    ")\n",
    "\n",
    "# Extract final temperature for process validation\n",
    "print(f\"Converter temperature: {converter_result.T:.1f} °C\")"
   ]
  },
  {
   "cell_type": "markdown",
   "id": "8f09a682",
   "metadata": {},
   "source": [
    "Alternative Converter Simulation with Added Heat"
   ]
  },
  {
   "cell_type": "code",
   "execution_count": null,
   "id": "c56dcf3b",
   "metadata": {},
   "outputs": [],
   "source": [
    "# Diathermal reaction assuming 200 MJ heat input in the converter\n",
    "converter_result = StreamCalculation.reaction_diathermal(\n",
    "    [hot_metal, oxygen, scrap, lime],\n",
    "    dH=200000.0,  # in J\n",
    ")\n",
    "\n",
    "# Extract final temperature for process validation\n",
    "print(f\"Converter temperature: {converter_result.T:.1f} °C\")"
   ]
  },
  {
   "cell_type": "markdown",
   "id": "0ddfbeb6",
   "metadata": {},
   "source": [
    "Product Separation"
   ]
  },
  {
   "cell_type": "code",
   "execution_count": null,
   "id": "3da72a68",
   "metadata": {},
   "outputs": [],
   "source": [
    "# Execute phase separation based on density thresholds\n",
    "off_gas, slag, steel = converter_result.create_streams_by_density([1.0, 5.0])\n",
    "\n",
    "print(f\"Off-gas amount: {off_gas.A:.2f} tonnes\")\n",
    "print(f\"Slag amount: {slag.A:.2f} tonnes\")\n",
    "print(f\"Steel amount: {steel.A:.2f} tonnes\")\n",
    "\n",
    "# Separation strategy utilizing matter state\n",
    "off_gas_alt = converter_result.create_stream_by_state(\n",
    "    name=\"OffGas\",\n",
    "    state=PhaseMatterState.GAS\n",
    ")\n",
    "\n",
    "solids_only = converter_result.create_stream_by_state(\n",
    "    name=\"Precipitates\",\n",
    "    state=PhaseMatterState.SOLID\n",
    ")\n",
    "\n",
    "# Separation strategy utilizing phase names\n",
    "slag_liquid_and_solid = converter_result.create_stream(\n",
    "    name=\"Slag\", \n",
    "    phs_exclude=[\"gas_ideal\", \"LIQUID#1\"]\n",
    ")\n",
    "\n",
    "steel_alt = converter_result.create_stream(\n",
    "    name=\"Steel\", \n",
    "    phs_include=[\"LIQUID#1\"]\n",
    ")\n"
   ]
  },
  {
   "cell_type": "markdown",
   "id": "f34ef09c",
   "metadata": {},
   "source": [
    "Secondary Metallurgy: Alloying"
   ]
  },
  {
   "cell_type": "code",
   "execution_count": null,
   "id": "c9008ca7",
   "metadata": {},
   "outputs": [],
   "source": [
    "# Define alloying materials\n",
    "Al = StreamCalculation.create_st_cfs(\"Al\", [\"Al\"], [0.15], T=25.0)\n",
    "Fe_Si = StreamCalculation.create_st_cfs(\"Fe_Si\", [\"Si\", \"Fe\"], [0.0238, 0.0102], T=25.0)\n",
    "Fe_Mn = StreamCalculation.create_st_cfs(\"Fe_Mn\", [\"Mn\", \"Fe\"], [0.0272, 0.0068], T=25.0)\n",
    "Fe_Ti = StreamCalculation.create_st_cfs(\"Fe_Ti\", [\"Ti\", \"Fe\"], [0.0221, 0.0119], T=25.0)\n",
    "\n",
    "# Execute isothermal reaction simulation at steel temperature\n",
    "alloying_result = StreamCalculation.reaction_isothermal(\n",
    "    [steel, Al, Fe_Si, Fe_Mn, Fe_Ti], \n",
    "    T=steel.T\n",
    ")\n",
    "\n",
    "# Extract alloyed steel stream for subsequent processing\n",
    "alloyed_steel = alloying_result.create_stream(\"AlloyedSteel\")"
   ]
  },
  {
   "cell_type": "markdown",
   "id": "fbe30882",
   "metadata": {},
   "source": [
    "Secondary Metallurgy: Vacuum Degassing"
   ]
  },
  {
   "cell_type": "code",
   "execution_count": null,
   "id": "476b5988",
   "metadata": {},
   "outputs": [],
   "source": [
    "# Define argon stream for inert gas purging\n",
    "Ar = StreamCalculation.create_st_cfs(\"Argon\", [\"Ar\"], [0.05], T=25.0)\n",
    "\n",
    "# Execute low-pressure equilibrium calculation\n",
    "degasser_result = StreamCalculation.reaction_isothermal(\n",
    "    [alloyed_steel, Ar], \n",
    "    T=alloyed_steel.T, \n",
    "    P=0.01  # Vacuum condition (10 mbar)\n",
    ")\n",
    "\n",
    "# Separate gaseous phase from degassed steel\n",
    "degassing_gas, degassed_steel = degasser_result.create_streams_by_density([1.0])"
   ]
  }
 ],
 "metadata": {
  "language_info": {
   "name": "python"
  }
 },
 "nbformat": 4,
 "nbformat_minor": 5
}
