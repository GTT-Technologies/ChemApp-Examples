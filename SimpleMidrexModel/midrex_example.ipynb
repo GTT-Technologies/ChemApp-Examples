{
 "cells": [
  {
   "cell_type": "markdown",
   "metadata": {},
   "source": [
    "# Midrex ND Plant \n",
    "\n",
    "In this example we will calculate the heat requirement considering midrex reformer and shaft furnace in a Midrex Natural Gas Plant by utilizing stream objects.\n",
    "\n",
    "Stream calculation in ChemApp for Python allows setting initial conditions in addition to general boundary conditions. This enables quick calculation of heat balances and modeling scenarios.\n",
    "\n",
    "![Midrex ND Plant flowchart ](MidrexND.png)\n",
    "\n",
    "\n",
    "Source: MIDREX NG Brochure (4.12.2018)\n",
    "\n",
    "## Reformer and Shaft Furnace in Midrex Reactor\n",
    "\n",
    "The MIDREX Reformer plays a crucial role in the production of direct reduced iron (DRI) in the MIDREX Shaft Furnace. In the Shaft Furnace, iron oxide reacts with a hot gas containing H2 and CO, resulting in the reduction of iron oxide into metallic iron (Fe), with CO2 and H2O as byproducts. The MIDREX Reformer heats and catalytically reforms natural gas, recycling CO2 and H2O from the reduction process to generate a rich reducing gas for DRI production. The Reformer also recycles byproducts and unreacted gases to minimize energy consumption and provide the necessary energy for reduction reactions in the Shaft Furnace.\n",
    "\n",
    "-> Assumptions have been made to streamline the model, taking into account only a subset of the components of the Midrex Furnace due to the complex nature of the process.\n",
    "\n",
    "-> In this model, the process gas extracted from the top gas is not recycled into the reformer. Instead, a fixed gas composition is introduced into the reformer. However, the energy contribution from the shaft furnace, referred to as \"Top Gas Fuel,\" has been incorporated into the energy balance equations."
   ]
  },
  {
   "cell_type": "markdown",
   "metadata": {},
   "source": [
    "## Initialization and general Setup\n",
    "Import the Pandas and ChemApp for Python."
   ]
  },
  {
   "cell_type": "code",
   "execution_count": null,
   "metadata": {},
   "outputs": [],
   "source": [
    "import pandas as pd\n",
    "from chemapp.friendly import (\n",
    "    ThermochemicalSystem as cats,\n",
    "    StreamCalculation as casc, \n",
    "    Units as cau,\n",
    "    TemperatureUnit,AmountUnit,EnergyUnit,PressureUnit\n",
    ")"
   ]
  },
  {
   "cell_type": "markdown",
   "metadata": {},
   "source": [
    "## Load data file \n",
    "Determine the data file path. Open, read and close the thermochemical data-file midrex-database.cst (system Fe-O-H-C-N)."
   ]
  },
  {
   "cell_type": "code",
   "execution_count": null,
   "metadata": {},
   "outputs": [],
   "source": [
    "#Load database \n",
    "cats.load(\"midrex_database.cst\")"
   ]
  },
  {
   "cell_type": "markdown",
   "metadata": {},
   "source": [
    "## Info about the CST file thermodynamic system"
   ]
  },
  {
   "cell_type": "code",
   "execution_count": null,
   "metadata": {},
   "outputs": [],
   "source": [
    "print(cats.get_str_phs_pcs())"
   ]
  },
  {
   "cell_type": "markdown",
   "metadata": {},
   "source": [
    "## Units setup"
   ]
  },
  {
   "cell_type": "code",
   "execution_count": null,
   "metadata": {},
   "outputs": [],
   "source": [
    "#Set units \n",
    "cau.set_A_unit(AmountUnit.kg)\n",
    "cau.set_T_unit(TemperatureUnit.C)\n",
    "cau.set_P_unit(PressureUnit.bar)\n",
    "cau.set_E_unit(EnergyUnit.kWh)"
   ]
  },
  {
   "cell_type": "markdown",
   "metadata": {},
   "source": [
    "## Set Input Stream \n",
    "Routine to define ChemApp for Python stream and incoming amounts. "
   ]
  },
  {
   "cell_type": "code",
   "execution_count": null,
   "metadata": {},
   "outputs": [],
   "source": [
    "def set_input_stream(input_stream_dict: dict, reset_IA = False):\n",
    "    #Manage incoming amounts\n",
    "    if reset_IA == True:\n",
    "        casc.remove_eq_conditions_IA()\n",
    "\n",
    "    #Create stream object \n",
    "    casc.create_st(name = input_stream_dict[\"name\"], T = input_stream_dict[\"T\"], P = input_stream_dict[\"P\"]) # C bar\n",
    "    #Set incoming amount of the stream object\n",
    "    for phpc in input_stream_dict[\"percentage\"]:\n",
    "            ph,pc = phpc\n",
    "            casc.set_IA_pc(name = input_stream_dict[\"name\"], ph =  ph , pc = pc, value = input_stream_dict[\"amount\"] * (input_stream_dict[\"percentage\"][phpc]/100)) #kg\n",
    "    return"
   ]
  },
  {
   "cell_type": "markdown",
   "metadata": {},
   "source": [
    "## Create equilibrium reaction calculator for the reformer \n",
    "\n",
    "In a simplified reformer`Stream Reformer` is heated up to an elevated `temperature`. An initial composition of a gas mixture `reformer_initial_input` is provided to reformer. As output `reducing_gas_stream` is obtained to be fed into the `Shaft Furnace`.\n",
    "\n",
    "In previous code block, \"Stream Reformer `reformer_initial_input` temperature is set to 580°C. Below, we will provide a reaction temperature that will also be equal to the output `reducing_gas_stream` temperature.\n",
    "\n",
    "![Reformer flowchart ](reformer_chart.png)\n"
   ]
  },
  {
   "cell_type": "code",
   "execution_count": null,
   "metadata": {},
   "outputs": [],
   "source": [
    "def reformer(input_stream: dict, reformer_T: float,reformer_P: float, print = False):\n",
    "    #Remove equilibrium conditions\n",
    "    casc.remove_eq_conditions_all()\n",
    "\n",
    "    #Set input stream \n",
    "    set_input_stream(input_stream)\n",
    "\n",
    "    #Set reaction temperature\n",
    "    casc.set_eq_P(reformer_P)\n",
    "    casc.set_eq_T(reformer_T)\n",
    "\n",
    "    #Calculate equilibrium\n",
    "    casc.calculate_eq(print_results= print)\n",
    "\n",
    "    results = casc.get_result_object()\n",
    "    \n",
    "    #get amount of gases\n",
    "    amount_pcs_in_gas = casc.get_eq_A_pcs_in_ph(0)\n",
    "    initial_amount_pcs_in_gas = casc.get_eq_IA_pcs_in_ph(0)\n",
    "    amount_total = casc.get_eq_A_ph(0)\n",
    "    initial_amount_total = sum(casc.get_eq_IA_pcs_in_ph(0)) \n",
    "    #Get name of gasses for indexing\n",
    "    name_pcs_in_gas = cats.get_name_pcs_in_ph(0)\n",
    "    \n",
    "    #get wt.% of gases \n",
    "    wt_pcs_in_gas = [gas_constituent / amount_total * 100 for gas_constituent in amount_pcs_in_gas]\n",
    "    initial_wt_pcs_in_gas = [gas_constituent / initial_amount_total * 100 for gas_constituent in initial_amount_pcs_in_gas]\n",
    "\n",
    "    #reformer output is the reducing gas stream\n",
    "    reducing_gas_stream = results.create_stream(name='Stream Reducing Gas',include_zeros=False)\n",
    "    #Create dataframe to have an idea about the process\n",
    "    data = {\n",
    "        \"Gas Input kg\": initial_amount_pcs_in_gas,\n",
    "        \"Gas Output kg\": amount_pcs_in_gas,\n",
    "        \"Gas Input wt.%\": initial_wt_pcs_in_gas,\n",
    "        \"Gas Output wt.%\": wt_pcs_in_gas\n",
    "\n",
    "    }\n",
    "\n",
    "    df = pd.DataFrame(data, index=name_pcs_in_gas)\n",
    "\n",
    "    #Filter dataframe \n",
    "    threshold = 1e-4 \n",
    "    df_filtered =  df[(df[\"Gas Input kg\"] > threshold) | (df[\"Gas Output kg\"]> threshold)]\n",
    "    enthalpy_change = results.dH \n",
    "    return reducing_gas_stream,df_filtered, enthalpy_change"
   ]
  },
  {
   "cell_type": "markdown",
   "metadata": {},
   "source": [
    "## Create equilibrium reaction calculator for the shaft furnace\n",
    "\n",
    "In a simplified scenerio Shaft furnace is operated at a certain temperature. `reducing_gas_stream` that obtained from Reformer is provided to the Shaft Furnace as well as the hematite ore is fed to the furnace at ambient conditions (25°C,1 bar) by `iron_oxide_stream`. Moreover, to reduce the CO2 emissions, `ammonia_stream` and `hydrogen_stream` is fed to the furnace in a desired ratio. As output `stream_top_gas` and `stream_DRI` is obtained.1/3 of the  gas stream will be used for energy conversation, whereas the 2/3 will be utilized in `Reformer`. The latter solid srteam contains the direct reduced iron, with a certain metallization degree.   \n",
    "\n",
    "![Shaft furnace flowchart ](shaft_furnace_chart.png)\n"
   ]
  },
  {
   "cell_type": "code",
   "execution_count": null,
   "metadata": {},
   "outputs": [],
   "source": [
    "def shaft_furnace(ammonia_stream:dict,hydrogen_stream: dict, iron_oxide_stream:dict, reducing_gas_stream, Furnace_T, Furnace_P, print = False): \n",
    "    #Remove equilibrium conditions\n",
    "    casc.remove_eq_conditions_all()    \n",
    "    \n",
    "    #Set streams\n",
    "    set_input_stream(ammonia_stream)\n",
    "    set_input_stream(hydrogen_stream)\n",
    "    set_input_stream(iron_oxide_stream)\n",
    "    casc.set_st(reducing_gas_stream)\n",
    "\n",
    "    #Set furnace T\n",
    "    casc.set_eq_T(Furnace_T)\n",
    "    casc.set_eq_P(Furnace_P)\n",
    "    \n",
    "    #Calculate and Print results if requested\n",
    "    casc.calculate_eq(print_results=print)\n",
    "\n",
    "    results = casc.get_result_object()\n",
    "\n",
    "    #Define output streams \n",
    "    stream_top_gas = results.create_gas_stream(\"Stream Top-gas\", include_zeros= False)\n",
    "    stream_DRI = results.create_solid_stream(\"Stream DRI\", include_zeros= False)\n",
    "    enthalpy_change = results.dH\n",
    "\n",
    "\n",
    "    #Calculate metallization degree\n",
    "    #Assuming FCC is the forming phase for Fe\n",
    "    total_amount_of_DRI_stream = stream_DRI.A\n",
    "    amount_of_iron = results.phs[\"FCC_A1#1\"].A\n",
    "    metallization_degree = amount_of_iron/total_amount_of_DRI_stream\n",
    "    return  stream_top_gas, stream_DRI, enthalpy_change, metallization_degree\n"
   ]
  },
  {
   "cell_type": "markdown",
   "metadata": {},
   "source": [
    "## Energy calculator \n",
    "Calculate the energy required to supply considering the recovered heat from off-gas, and consumed energy based on reaction dH of reformer and shaft furnace."
   ]
  },
  {
   "cell_type": "code",
   "execution_count": null,
   "metadata": {},
   "outputs": [],
   "source": [
    "def energy_balance(top_gas_stream,shaft_furnace_dH,reformer_dH):\n",
    "    #One third of the energy is recovered from topgas\n",
    "    #Assuming 100% energy conversion for top_gas_fuel_enthalpy\n",
    "    casc.set_st(top_gas_stream)\n",
    "    #Cool down top gas to ambient temperature\n",
    "    casc.set_eq_T(580)\n",
    "    casc.calculate_eq(print_results= False)\n",
    "    resuts = casc.get_result_object()\n",
    "    #Get recovered enthalpy while cooling. 1/3 of the top gas will be reused as \"fuel\" for reformer.\n",
    "    top_gas_fuel_enthalpy =  resuts.dH / 3\n",
    "    shaft_furnace_enthalpy_change = shaft_furnace_dH\n",
    "    reformer_enthalpy_change = reformer_dH\n",
    "    total = reformer_enthalpy_change + shaft_furnace_enthalpy_change + top_gas_fuel_enthalpy\n",
    "    return total ,top_gas_fuel_enthalpy\n"
   ]
  },
  {
   "cell_type": "markdown",
   "metadata": {},
   "source": [
    "## Set the Midrex process \n",
    "Here we can provide input arguments and deploy functions to simulate the simplified midrex reactor. "
   ]
  },
  {
   "cell_type": "code",
   "execution_count": null,
   "metadata": {},
   "outputs": [],
   "source": [
    "\n",
    "#Reformer input \n",
    "# Define reformer input stream properties\n",
    "initial_reformer_stream = {\"name\": \"Reducing gas stream\",\"T\":580,\"P\":1,\"amount\":470, \"percentage\":{(0,\"H2\"): 3.92, (0,\"CO\"): 29.6, (0,\"CO2\"): 36.72, (0,\"H2O\"): 13.02, (0,\"CH4\"): 15.17, (0,\"N2\"): 1.56}} #C bar kg wt.%\n",
    "\n",
    "# Run reformer()\n",
    "reducing_gas_stream,df_reformer, reformer_enthalpy_change = reformer(initial_reformer_stream,reformer_T= 950, reformer_P= 20, print= False ) # C bar \n",
    "\n",
    "#Shaft furnace input \n",
    "# Define Ammonia input stream properties. Ammonia will be provided to shaft furnace additional to the reformer. \n",
    "ammonia_stream = {\"name\": \"Ammonia Stream\",\"T\":580,\"P\":1,\"amount\": 268, \"percentage\":{(0,\"NH3\"): 100}} # C bar kg wt.%\n",
    "hydrogen_stream = {\"name\": \"Hydrogen Stream\",\"T\":580,\"P\":1,\"amount\": 0, \"percentage\":{(0,\"H2\"): 100}} # C bar kg wt.%\n",
    "# Define Iron Oxide stream properties  \n",
    "iron_oxide_stream = {\"name\": \"Iron Oxide Stream\",\"T\":25,\"P\":1,\"amount\":1000, \"percentage\":{(\"Fe2O3_hematite(s)\",\"Fe2O3_hematite(s)\"): 100}} #kg\n",
    "\n",
    "#Run shaft_furnace()\n",
    "stream_top_gas, stream_DRI, shaft_furnace_enthalpy_change, metallization_degree = shaft_furnace(ammonia_stream,hydrogen_stream,iron_oxide_stream,reducing_gas_stream, 1000, 1, print= True) #C bar\n",
    "\n",
    "#Run energy_balance()\n",
    "energy_requirement, recovered_energy_top_gas = energy_balance(stream_top_gas, shaft_furnace_enthalpy_change, reformer_enthalpy_change)"
   ]
  },
  {
   "cell_type": "markdown",
   "metadata": {},
   "source": [
    "## Results \n",
    "Here we can demonstrate the results of the Midrex process. An overview of the stream management and process flowchart for current process model is described below. \n",
    " \n",
    "![Midrex flowchart ](midrex_chart.png)"
   ]
  },
  {
   "cell_type": "markdown",
   "metadata": {},
   "source": [
    "### 1. Reformer stream"
   ]
  },
  {
   "cell_type": "code",
   "execution_count": null,
   "metadata": {},
   "outputs": [],
   "source": [
    "print(f\"Reformer stream\\n {df_reformer}\\n\")\n",
    "#The reducing gas ratio (H2:CO) is typically around 1.55(in volume) or 0.11 (in mass) \n",
    "reducing_gas_ratio = df_reformer.loc[\"H2\",\"Gas Output kg\"] / df_reformer.loc[\"CO\",\"Gas Output kg\"]\n",
    "print(f\"Reducing gas ratio (in mass): {round(reducing_gas_ratio,2)}\")"
   ]
  },
  {
   "cell_type": "markdown",
   "metadata": {},
   "source": [
    "We can compare the results with the actual plant data:\n",
    "|  Gas  | Input (wt.%)         | Output (wt.%)        |\n",
    "|-------|----------------------|----------------------|\n",
    "| H2    | 3.92                 | 8.33                 |\n",
    "| CO    | 29.60                | 73.63                |\n",
    "| CO2   | 36.72                | 6.61                 |\n",
    "| H2O   | 13.03                | 8.12                 |\n",
    "| CH4   | 15.17                | 1.20                 |\n",
    "| N2    | 1.56                 | 2.10                 |\n",
    "\n",
    "Reducing gas ratio (in mass): 0.11, (in volume): 1.55 \n",
    "\n",
    "Source: MIDREX NG Brochure (4.12.2018)"
   ]
  },
  {
   "cell_type": "markdown",
   "metadata": {},
   "source": [
    "### 2. Shaft furnace: top gas "
   ]
  },
  {
   "cell_type": "code",
   "execution_count": null,
   "metadata": {},
   "outputs": [],
   "source": [
    "print(f\"Stream top gas\\n {stream_top_gas}\\n\")\n"
   ]
  },
  {
   "cell_type": "markdown",
   "metadata": {},
   "source": [
    "### 3. Shaft furnace: DRI and metallization degree"
   ]
  },
  {
   "cell_type": "code",
   "execution_count": null,
   "metadata": {},
   "outputs": [],
   "source": [
    "print(f\"Stream DRI\\n {stream_DRI}\\n\")"
   ]
  },
  {
   "cell_type": "code",
   "execution_count": null,
   "metadata": {},
   "outputs": [],
   "source": [
    "import matplotlib.pyplot as plt\n",
    "\n",
    "def draw_pie_chart(metallization_degree):\n",
    "    labels = ['DRI', 'Oxide']\n",
    "    sizes = [metallization_degree * 100, abs((1 - metallization_degree)) * 100]\n",
    "\n",
    "    plt.pie(sizes, labels=labels, autopct='%1.1f%%', startangle=90)\n",
    "    plt.axis('equal')  # Equal aspect ratio ensures that pie is drawn as a circle.\n",
    "\n",
    "    plt.title(f'Metallization Degree: {metallization_degree:.2f}')\n",
    "    plt.show()\n",
    "\n",
    "print(f\"Metallization degree: {metallization_degree}, max 1\")\n",
    "draw_pie_chart(metallization_degree)"
   ]
  },
  {
   "cell_type": "markdown",
   "metadata": {},
   "source": [
    "### 4. Energy requirement"
   ]
  },
  {
   "cell_type": "code",
   "execution_count": null,
   "metadata": {},
   "outputs": [],
   "source": [
    "print(f\"Energy requirement: {round(energy_requirement,2)} {cau.get_E_unit().name}\")\n",
    "print(f\"Recovered energy from top gas { recovered_energy_top_gas :.2f} {cau.get_E_unit().name}, \"\n",
    "        f\"Shaft furnace energy requirement {shaft_furnace_enthalpy_change:.2f} {cau.get_E_unit().name}, \"\n",
    "        f\"Reformer energy requirement {reformer_enthalpy_change:.2f} {cau.get_E_unit().name}\")\n",
    "\n",
    "labels = ['Top Gas', 'Shaft Furnace', 'Reformer', 'Total Required']\n",
    "values = [recovered_energy_top_gas , shaft_furnace_enthalpy_change, reformer_enthalpy_change, energy_requirement]\n",
    "plt.bar(labels, values, color=['blue', 'green', 'orange', 'red'], alpha = 0.7)\n",
    "plt.ylabel(f'Energy Consumption ({cau.get_E_unit().name})')\n",
    "plt.title('Energy Balance')\n",
    "plt.show()\n"
   ]
  }
 ],
 "metadata": {
  "kernelspec": {
   "display_name": "CApy_course",
   "language": "python",
   "name": "python3"
  },
  "language_info": {
   "codemirror_mode": {
    "name": "ipython",
    "version": 3
   },
   "file_extension": ".py",
   "mimetype": "text/x-python",
   "name": "python",
   "nbconvert_exporter": "python",
   "pygments_lexer": "ipython3",
   "version": "3.11.5"
  }
 },
 "nbformat": 4,
 "nbformat_minor": 2
}
